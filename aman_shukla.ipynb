{
  "nbformat": 4,
  "nbformat_minor": 0,
  "metadata": {
    "colab": {
      "name": "aman_shukla.ipynb",
      "provenance": []
    },
    "kernelspec": {
      "name": "python3",
      "display_name": "Python 3"
    },
    "language_info": {
      "name": "python"
    }
  },
  "cells": [
    {
      "cell_type": "code",
      "metadata": {
        "id": "dsLo5KNW16i6"
      },
      "source": [
        "import numpy as np\n",
        "import pandas as pd\n",
        "import sklearn\n",
        "\n",
        "\n",
        "from sklearn.datasets import load_boston\n",
        "\n",
        "\n",
        "df=load_boston()\n",
        "df.keys()     #returns all the keysof the dataset.\n",
        "\n",
        "\n",
        "print(df.data) #returns info about dataset.\n",
        "\n",
        "\n",
        "boston=pd.DataFrame(df.data,columns=df.feature_names)        #gives first 5tables as the default od head is 5.\n",
        "boston.head()\n",
        "\n",
        "\n",
        "boston[\"target_price\"]=df.target            #adding a new column.\n",
        "boston.head()\n",
        "\n",
        "\n",
        "boston.isnull()        #checks is there any null value in dataset.\n",
        "\n",
        "\n",
        "boston.isnull().sum()     #this gives the sum of all the bullean values given by a oerticular column element(gives 1 for true and 0 for false).\n",
        "\n",
        "from sklearn.model_selection import train_test_split\n",
        "X=boston.drop(\"target_price\",axis=1)\n",
        "Y=boston[\"target_price\"]\n",
        "X_train,X_test,Y_train,Y_test=train_test_split(X,Y,test_size=0.15,random_state=5)    #here,we are justb preparing the test and traning part. \n",
        "print(X_train.shape)\n",
        "print(X_test.shape)\n",
        "print(Y_train.shape)\n",
        "print(Y_test.shape)\n",
        "\n",
        "\n",
        "from sklearn.linear_model import LinearRegression\n",
        "from sklearn.metrics import mean_squared_error\n",
        "\n",
        "\n",
        "## fitting model pn the training dataset.\n",
        "lin_model=LinearRegression()\n",
        "lin_model.fit(X_train,Y_train)\n",
        "\n",
        "y_train_predict=lin_model.predict(X_train)\n",
        "rmse=(np.sqrt(mean_squared_error(Y_train,y_train_predict)))      #on training set \n",
        "print(\"The model performance for training set\")\n",
        "print(\"RMSE is {}\".format(rmse))\n",
        "print(\"\\n\")\n",
        "\n",
        "#on testing set\n",
        "y_test_predict=lin_model.predict(X_test)\n",
        "rmse=(np.sqrt(mean_squared_error(Y_test,y_test_predict)))\n",
        "print(\"The model performance for testing set\")\n",
        "print(\"RMSE is {}\".format(rmse))\n",
        "\n",
        "\n",
        "\n",
        "\n"
      ],
      "execution_count": null,
      "outputs": []
    }
  ]
}